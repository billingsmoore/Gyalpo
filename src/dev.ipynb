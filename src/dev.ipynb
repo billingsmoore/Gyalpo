{
 "cells": [
  {
   "cell_type": "markdown",
   "id": "02ea1153",
   "metadata": {},
   "source": [
    "# Development Notebook\n",
    "\n",
    "This notebook is for development and testing."
   ]
  },
  {
   "cell_type": "code",
   "execution_count": 10,
   "id": "1511390a",
   "metadata": {},
   "outputs": [],
   "source": [
    "from agents.experts.ethics_expert import EthicsExpert\n",
    "from agents.gateway_agent import Gateway\n",
    "\n",
    "CATEGORIES = ['ethics', 'philosophy', 'history']"
   ]
  },
  {
   "cell_type": "code",
   "execution_count": 11,
   "id": "a7335246",
   "metadata": {},
   "outputs": [],
   "source": [
    "gateway_agent = Gateway(categories=CATEGORIES)\n",
    "ethics_agent = EthicsExpert()"
   ]
  },
  {
   "cell_type": "code",
   "execution_count": 12,
   "id": "53aec4c3",
   "metadata": {},
   "outputs": [],
   "source": [
    "user_query = 'What does Buddhism say about stealing?'"
   ]
  },
  {
   "cell_type": "code",
   "execution_count": 13,
   "id": "f5b6592c",
   "metadata": {},
   "outputs": [
    {
     "name": "stdout",
     "output_type": "stream",
     "text": [
      "Here is the user's query: What does Buddhism say about stealing? \n",
      "                \n",
      "Use the the provided context for a response to the user query.\n",
      "                user_query: What does Buddhism say about stealing? \n",
      "                context: While Buddhism encourages wealth gained ethically,[171] it sees greed and craving for riches as negative, and praises contentment as 'the greatest wealth'. Poverty and debt are seen as causes of suffering, immorality, and social unrest if they prevent one from having basic necessities and peace of mind. For laypeople, Buddhism promotes the middle way between a life of poverty and a materialistic or consumerist life in which one is always seeking to enrich oneself and to buy more things.[181] For Buddhist laypersons then, to be Buddhist does not mean to reject all material things, but, according to Sizemore and Swearer: \"it specifies an attitude to be cultivated and expressed in whatever material condition one finds oneself. To be non-attached is to possess and use material things but not to be possessed or used by them. Therefore, the idea of non-attachment applies all across Buddhist society, to laymen and monk alike.\"[182]\n",
      "\n",
      "^ Keown, Damien; Buddhist Ethics A Very Short Introduction, pg 5.\n",
      "\n",
      "^ Peter Harvey An Introduction to Buddhist Ethics Cambridge University Press 2000, page 19.\n",
      "\n",
      "^ Keown 2003, p. 268.\n",
      "\n",
      "^ a b Stewart McFarlane in Peter Harvey, ed., Buddhism. Continuum, 2001, pages 195-196.\n",
      "\n",
      "^ Terwiel 2012, p. 181.\n",
      "\n",
      "^ a b \"Bodhi Monastery: the Five Precepts\". Archived from the original on 2010-11-23. Retrieved 2011-03-14.\n",
      "\n",
      "^ Harvey 2000, p. 80.\n",
      "\n",
      "^ Edelglass 2013, p. 479.\n",
      "\n",
      "^ Harvey 2000, p. 68.\n",
      "\n",
      "^ a b Gwynne 2017, The Buddhist Pancasila.\n",
      "\n",
      "^ Keown 2013, p. 618.\n",
      "\n",
      "^ Edelglass 2013, p. 481.\n",
      "\n",
      "^ Keown 2012, pp. 31–4.\n",
      "\n",
      "^ Seeger 2010, p. 78.\n",
      "\n",
      "^ Ledgerwood & Un 2010, p. 541.\n",
      "\n",
      "^ Seeger 2010, pp. 78, 85.\n",
      "\n",
      "^ Keown 2013, p. 616.\n",
      "\n",
      "^ Harvey 2000, pp. 33, 71, 120.\n",
      "\n",
      "^ Ratanakul 2007, p. 241.\n",
      "\n",
      "^ Horigan 1996, p. 276.\n",
      "\n",
      "^ Alarid & Wang 2001, pp. 236–7.\n",
      "\n",
      "^ Keown 2016a, p. 213.\n",
      "\n",
      "^ Perrett 2000, p. 110.\n",
      "\n",
      "^ Keown 2016b, p. 170.\n",
      "\n",
      "^ Harvey 2000, pp. 71–2, 74, 76.\n",
      "\n",
      "^ Wijayaratna 1990, pp. 166–7.\n",
      "\n",
      "^ Harvey 2000, p. 77.\n",
      "\n",
      "Harvey, Peter (2000), An Introduction to Buddhist Ethics: Foundations, Values and Issues (PDF), Cambridge University Press, ISBN 978-0-511-07584-1, archived from the original (PDF) on 2019-04-12, retrieved 2018-11-29\n",
      "Horigan, D.P. (1996), \"Of Compassion and Capital Punishment: A Buddhist Perspective on the Death Penalty\", American Journal of Jurisprudence, 41: 271–288, doi:10.1093/ajj/41.1.271\n",
      "Kaza, Stephanie (2000), \"Overcoming the Grip of Consumerism\", Buddhist-Christian Studies, 20: 23–42, doi:10.1353/bcs.2000.0013, JSTOR 1390317, S2CID 1625439\n",
      "Keown, Damien (2003), A Dictionary of Buddhism, Oxford University Press, ISBN 978-0-19-157917-2\n",
      "Keown, Damien (2012), \"Are There Human Rights in Buddhism?\", in Husted, Wayne R.; Keown, Damien; Prebish, Charles S. (eds.), Buddhism and Human Rights, Routledge, pp. 15–42, ISBN 978-1-136-60310-5\n",
      "                \n"
     ]
    }
   ],
   "source": [
    "gateway_response = gateway_agent.chat(user_input=user_query)\n",
    "if gateway_response == 'NO':\n",
    "    print(\"I'm sorry. This chatbot is only equipped to answer questions about Buddhism. If your question is about Buddhism, try rephrasing.\")\n",
    "else:\n",
    "    if gateway_response.upper() == \"ETHICS\":\n",
    "        response = ethics_agent.chat(user_input=user_query)"
   ]
  },
  {
   "cell_type": "code",
   "execution_count": 14,
   "id": "f8fed9ec",
   "metadata": {},
   "outputs": [
    {
     "name": "stdout",
     "output_type": "stream",
     "text": [
      "Buddhism strongly discourages stealing. While it doesn't forbid all material possessions, it emphasizes non-attachment and a mindful attitude toward material things. Greed and craving for wealth are seen as negative, with contentment being considered the greatest wealth. Poverty and debt are viewed as sources of suffering, immorality, and social unrest if they prevent one from basic necessities and peace of mind. For laypeople, Buddhism promotes a middle way, avoiding both extreme poverty and excessive materialism. The core principle is to possess and use material things without being possessed or controlled by them. This applies to all Buddhists, from laypeople to monks.\n"
     ]
    }
   ],
   "source": [
    "print(response)"
   ]
  },
  {
   "cell_type": "code",
   "execution_count": null,
   "id": "bfad446a",
   "metadata": {},
   "outputs": [],
   "source": []
  }
 ],
 "metadata": {
  "kernelspec": {
   "display_name": ".venv (3.12.7)",
   "language": "python",
   "name": "python3"
  },
  "language_info": {
   "codemirror_mode": {
    "name": "ipython",
    "version": 3
   },
   "file_extension": ".py",
   "mimetype": "text/x-python",
   "name": "python",
   "nbconvert_exporter": "python",
   "pygments_lexer": "ipython3",
   "version": "3.12.7"
  }
 },
 "nbformat": 4,
 "nbformat_minor": 5
}
