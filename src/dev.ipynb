{
 "cells": [
  {
   "cell_type": "markdown",
   "id": "02ea1153",
   "metadata": {},
   "source": [
    "# Development Notebook\n",
    "\n",
    "This notebook is for development and testing."
   ]
  },
  {
   "cell_type": "code",
   "execution_count": 17,
   "id": "bfad446a",
   "metadata": {},
   "outputs": [],
   "source": [
    "from agent_template import Agent\n",
    "\n",
    "class Critic(Agent):\n",
    "\n",
    "    def __init__(self):\n",
    "        self.name = \"Critic\"\n",
    "        super().__init__()\n",
    "\n",
    "    def system_prompt(self):\n",
    "        return f\"\"\"You are an expert critic of Buddhist material. You ensure that answers to user questions are aligned with Buddhist ethics and ideals.\n",
    "        If if the current answer is acceptable answer \"YES\" with no additional output. Otherwise, provide feedback on how to improve the answer.\"\"\"\n",
    "    \n",
    "    def user_prompt(self, user_input):\n",
    "        return f\"\"\"Reflect on the suggested answer to the given question.\n",
    "                Question: {user_input['user_query']}\n",
    "                Answer: {user_input['current_answer']}\n",
    "                \"\"\""
   ]
  },
  {
   "cell_type": "code",
   "execution_count": 30,
   "id": "7a936d7d",
   "metadata": {},
   "outputs": [],
   "source": [
    "class Synthesizer(Agent):\n",
    "    def __init__(self):\n",
    "        self.name = \"Synthesizer\"\n",
    "        super().__init__()\n",
    "\n",
    "    def system_prompt(self):\n",
    "        return f\"\"\"You are an expert on Buddhism. You synthesize context and feedback to provide high quality answer to user's questions.\"\"\"\n",
    "    \n",
    "    def user_prompt(self, user_input):\n",
    "        base_prompt = \"Synthesize the following into a great answer.\\n\"\n",
    "        question = f\"Question: {user_input['user_query']}\"\n",
    "        context = f\"Context: {user_input.get('context', 'None')}\"\n",
    "        \n",
    "        if 'current_answer' in user_input:\n",
    "            answer = f\"Answer: {user_input['current_answer']}\"\n",
    "            feedback = f\"Critic Feedback: {user_input.get('feedback', '')}\"\n",
    "            return f\"{base_prompt}{question}\\n{context}\\n{answer}\\n{feedback}\"\n",
    "        \n",
    "        return f\"{base_prompt}{question}\\n{context}\""
   ]
  },
  {
   "cell_type": "code",
   "execution_count": 18,
   "id": "780ecc61",
   "metadata": {},
   "outputs": [],
   "source": [
    "agent = Critic()"
   ]
  },
  {
   "cell_type": "code",
   "execution_count": null,
   "id": "0c49c221",
   "metadata": {},
   "outputs": [],
   "source": [
    "response = agent.chat({'user_query': 'Is stealing acceptable?', 'current_answer': 'Yeah, probably'})"
   ]
  },
  {
   "cell_type": "code",
   "execution_count": 22,
   "id": "cd4e3e2f",
   "metadata": {},
   "outputs": [
    {
     "data": {
      "text/plain": [
       "'This answer is deeply problematic and completely misaligned with Buddhist ethics. Here\\'s a breakdown of why and how to improve it:\\n\\n**Why it\\'s unacceptable:**\\n\\n* **Directly contradicts core Buddhist principles:** Stealing is a direct violation of the Five Precepts, a fundamental cornerstone of Buddhist practice.  The precept against stealing is about cultivating honesty, respect for others\\' property, and non-harming.\\n* **Lacks ethical consideration:** The answer is flippant and dismissive of the harm stealing causes. It doesn\\'t acknowledge the suffering it inflicts on the victim.\\n* **Demonstrates a misunderstanding of Buddhist teachings:**  Buddhism emphasizes cultivating virtues like generosity, compassion, and mindfulness. Stealing is the antithesis of these virtues.\\n* **Unhelpful and potentially harmful:**  Providing an answer that suggests stealing is \"probably\" acceptable is irresponsible and could encourage unethical behavior.\\n\\n**How to improve the answer:**\\n\\nA suitable response would acknowledge the inherent wrongfulness of stealing and explain the Buddhist perspective.  Here\\'s an example:\\n\\n\"No, stealing is not acceptable in Buddhism. It directly violates the precept against stealing, which is a fundamental principle for cultivating ethical conduct. Stealing causes harm to others – it violates their right to their possessions, creates distrust, and can lead to suffering.  Buddhist teachings encourage cultivating honesty, generosity, and respect for others.  Practicing non-stealing is an important part of developing compassion and wisdom.\"\\n\\n**Key improvements:**\\n\\n* **Clear and direct rejection of stealing:**  Starts with a firm \"no.\"\\n* **References the Five Precepts:** Grounds the answer in core Buddhist practice.\\n* **Explains the harm caused:**  Highlights the negative consequences of stealing.\\n* **Connects to positive virtues:**  Links non-stealing to desirable qualities like compassion and wisdom.\\n* **Offers a constructive perspective:**  Provides a clear understanding of the Buddhist viewpoint.\\n\\n\\n\\nYES'"
      ]
     },
     "execution_count": 22,
     "metadata": {},
     "output_type": "execute_result"
    }
   ],
   "source": [
    "response"
   ]
  },
  {
   "cell_type": "code",
   "execution_count": 31,
   "id": "a2ae1c59",
   "metadata": {},
   "outputs": [],
   "source": [
    "synth = Synthesizer()"
   ]
  },
  {
   "cell_type": "code",
   "execution_count": 32,
   "id": "96692bc9",
   "metadata": {},
   "outputs": [],
   "source": [
    "synth_response = synth.chat(\n",
    "    {\n",
    "        'user_query': 'Is stealing acceptable?',\n",
    "        'current_answer': 'Yeah, probably',\n",
    "        'feedback': response\n",
    "    }\n",
    ")"
   ]
  },
  {
   "cell_type": "code",
   "execution_count": 33,
   "id": "74b28319",
   "metadata": {},
   "outputs": [
    {
     "data": {
      "text/plain": [
       "\"## Is Stealing Acceptable in Buddhism?\\n\\nNo, stealing is absolutely not acceptable in Buddhism. It fundamentally contradicts core Buddhist principles and is considered a violation of the **First Precept**, which is a cornerstone of ethical Buddhist practice. \\n\\nHere's a deeper look at why stealing is considered wrong from a Buddhist perspective:\\n\\n* **Violation of the First Precept:** The First Precept explicitly states the importance of refraining from taking things that are not freely given. This precept is not simply a rule; it's a cultivation of honesty, respect for others' property, and a commitment to non-harming.\\n* **Cause of Harm and Suffering:** Stealing inflicts harm on the person who is stolen from. It violates their right to their possessions, creates feelings of distrust and insecurity, and can lead to significant emotional and material suffering. Buddhism emphasizes cultivating compassion, and stealing is the opposite of compassionate action.\\n* **Hindrance to Spiritual Progress:**  Buddhist teachings encourage the development of virtues like generosity, kindness, and mindfulness. Stealing, on the other hand, cultivates negative qualities like greed, dishonesty, and a lack of respect for others. These negative qualities obstruct our spiritual progress and create negative karma.\\n* **Cultivating Wisdom and Ethical Conduct:**  Practicing non-stealing is an essential part of developing wisdom and ethical conduct. It requires us to cultivate self-control, consider the consequences of our actions, and act in ways that benefit ourselves and others.\\n\\nIn essence, Buddhism teaches us that our actions have consequences. Stealing creates negative consequences for both the thief and the victim, hindering our own well-being and the well-being of the world around us.  Instead of stealing, Buddhists are encouraged to cultivate generosity, honesty, and respect for others – qualities that lead to greater happiness and peace for all.\""
      ]
     },
     "execution_count": 33,
     "metadata": {},
     "output_type": "execute_result"
    }
   ],
   "source": [
    "synth_response"
   ]
  }
 ],
 "metadata": {
  "kernelspec": {
   "display_name": ".venv (3.12.7)",
   "language": "python",
   "name": "python3"
  },
  "language_info": {
   "codemirror_mode": {
    "name": "ipython",
    "version": 3
   },
   "file_extension": ".py",
   "mimetype": "text/x-python",
   "name": "python",
   "nbconvert_exporter": "python",
   "pygments_lexer": "ipython3",
   "version": "3.12.7"
  }
 },
 "nbformat": 4,
 "nbformat_minor": 5
}
